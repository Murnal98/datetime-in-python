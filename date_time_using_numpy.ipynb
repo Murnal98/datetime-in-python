{
  "nbformat": 4,
  "nbformat_minor": 0,
  "metadata": {
    "colab": {
      "name": "date time using numpy",
      "provenance": [],
      "authorship_tag": "ABX9TyPTA9cu16o22vmg2Jj2x9LU",
      "include_colab_link": true
    },
    "kernelspec": {
      "name": "python3",
      "display_name": "Python 3"
    },
    "language_info": {
      "name": "python"
    }
  },
  "cells": [
    {
      "cell_type": "markdown",
      "metadata": {
        "id": "view-in-github",
        "colab_type": "text"
      },
      "source": [
        "<a href=\"https://colab.research.google.com/github/Murnal98/datetime-in-python/blob/main/date_time_using_numpy.ipynb\" target=\"_parent\"><img src=\"https://colab.research.google.com/assets/colab-badge.svg\" alt=\"Open In Colab\"/></a>"
      ]
    },
    {
      "cell_type": "code",
      "execution_count": null,
      "metadata": {
        "id": "jq4FKQLzyQ_m"
      },
      "outputs": [],
      "source": [
        "import numpy as np\n",
        "import datetime"
      ]
    },
    {
      "cell_type": "markdown",
      "source": [
        "# **Basic Datetime**"
      ],
      "metadata": {
        "id": "QzYryMZ49SMz"
      }
    },
    {
      "cell_type": "code",
      "source": [
        "np.datetime64('2005-02-25')"
      ],
      "metadata": {
        "colab": {
          "base_uri": "https://localhost:8080/"
        },
        "id": "LkNRFrH-3jb0",
        "outputId": "f46d4a6a-6b3d-4397-b447-daad9b7d4928"
      },
      "execution_count": null,
      "outputs": [
        {
          "output_type": "execute_result",
          "data": {
            "text/plain": [
              "numpy.datetime64('2005-02-25')"
            ]
          },
          "metadata": {},
          "execution_count": 3
        }
      ]
    },
    {
      "cell_type": "code",
      "source": [
        "np.datetime64(1, 'Y')"
      ],
      "metadata": {
        "colab": {
          "base_uri": "https://localhost:8080/"
        },
        "id": "VbW4NLVH2TdN",
        "outputId": "b36de40d-4b59-4322-ee5e-2378e2d27ee6"
      },
      "execution_count": null,
      "outputs": [
        {
          "output_type": "execute_result",
          "data": {
            "text/plain": [
              "numpy.datetime64('1971')"
            ]
          },
          "metadata": {},
          "execution_count": 53
        }
      ]
    },
    {
      "cell_type": "code",
      "source": [
        "np.datetime64('2005-02')"
      ],
      "metadata": {
        "colab": {
          "base_uri": "https://localhost:8080/"
        },
        "id": "NwmU8Bdy3wnq",
        "outputId": "ea2a172a-7503-4583-d434-96c730eefb0c"
      },
      "execution_count": null,
      "outputs": [
        {
          "output_type": "execute_result",
          "data": {
            "text/plain": [
              "numpy.datetime64('2005-02')"
            ]
          },
          "metadata": {},
          "execution_count": 5
        }
      ]
    },
    {
      "cell_type": "code",
      "source": [
        "np.datetime64('2005-02', 'D')"
      ],
      "metadata": {
        "colab": {
          "base_uri": "https://localhost:8080/"
        },
        "id": "76z8h3pz2hE8",
        "outputId": "1815eb0b-b3a7-4c6e-b881-15b3fe46f4aa"
      },
      "execution_count": null,
      "outputs": [
        {
          "output_type": "execute_result",
          "data": {
            "text/plain": [
              "numpy.datetime64('2005-02-01')"
            ]
          },
          "metadata": {},
          "execution_count": 6
        }
      ]
    },
    {
      "cell_type": "code",
      "source": [
        "np.datetime64('2005-02-25T03:30')"
      ],
      "metadata": {
        "colab": {
          "base_uri": "https://localhost:8080/"
        },
        "id": "laDOI-r034OZ",
        "outputId": "3fe67cef-2afd-4fd3-ce3a-6237def32bc1"
      },
      "execution_count": null,
      "outputs": [
        {
          "output_type": "execute_result",
          "data": {
            "text/plain": [
              "numpy.datetime64('2005-02-25T03:30')"
            ]
          },
          "metadata": {},
          "execution_count": 7
        }
      ]
    },
    {
      "cell_type": "code",
      "source": [
        "np.datetime64('nat')"
      ],
      "metadata": {
        "colab": {
          "base_uri": "https://localhost:8080/"
        },
        "id": "peH3wz7I4Jeq",
        "outputId": "cd9adf81-f062-441c-f000-c8fe9db97a06"
      },
      "execution_count": null,
      "outputs": [
        {
          "output_type": "execute_result",
          "data": {
            "text/plain": [
              "numpy.datetime64('NaT')"
            ]
          },
          "metadata": {},
          "execution_count": 8
        }
      ]
    },
    {
      "cell_type": "markdown",
      "source": [
        "# **Timedate array format**"
      ],
      "metadata": {
        "id": "tXUn2AK6BXI-"
      }
    },
    {
      "cell_type": "code",
      "source": [
        "np.array(['2007-07-13', '2006-01-13', '2010-08-13'], dtype='datetime64')"
      ],
      "metadata": {
        "colab": {
          "base_uri": "https://localhost:8080/"
        },
        "id": "Y6sIGddU4eMh",
        "outputId": "063464c6-2a13-48d6-db4a-a8e81dd37c61"
      },
      "execution_count": null,
      "outputs": [
        {
          "output_type": "execute_result",
          "data": {
            "text/plain": [
              "array(['2007-07-13', '2006-01-13', '2010-08-13'], dtype='datetime64[D]')"
            ]
          },
          "metadata": {},
          "execution_count": 9
        }
      ]
    },
    {
      "cell_type": "code",
      "source": [
        "np.array(['2001-01-01T12:00', '2002-02-03T13:56:03.172'], dtype='datetime64')"
      ],
      "metadata": {
        "colab": {
          "base_uri": "https://localhost:8080/"
        },
        "id": "aB3q1AR_4tEZ",
        "outputId": "3918543e-c742-49b1-8258-9c7b8122942c"
      },
      "execution_count": null,
      "outputs": [
        {
          "output_type": "execute_result",
          "data": {
            "text/plain": [
              "array(['2001-01-01T12:00:00.000', '2002-02-03T13:56:03.172'],\n",
              "      dtype='datetime64[ms]')"
            ]
          },
          "metadata": {},
          "execution_count": 10
        }
      ]
    },
    {
      "cell_type": "markdown",
      "source": [
        "# POSIX timestamps "
      ],
      "metadata": {
        "id": "Xx2BSALt5Smo"
      }
    },
    {
      "cell_type": "code",
      "source": [
        "np.array([0, 1577836800], dtype='datetime64[s]')"
      ],
      "metadata": {
        "colab": {
          "base_uri": "https://localhost:8080/"
        },
        "id": "Scg0TFRJ5BGh",
        "outputId": "9fe66aa0-0bcf-4b03-c59d-2fa1dbf3f4eb"
      },
      "execution_count": null,
      "outputs": [
        {
          "output_type": "execute_result",
          "data": {
            "text/plain": [
              "array(['1970-01-01T00:00:00', '2020-01-01T00:00:00'],\n",
              "      dtype='datetime64[s]')"
            ]
          },
          "metadata": {},
          "execution_count": 11
        }
      ]
    },
    {
      "cell_type": "code",
      "source": [
        "np.array([0, 1577836800000]).astype('datetime64[ms]')"
      ],
      "metadata": {
        "colab": {
          "base_uri": "https://localhost:8080/"
        },
        "id": "n1VVN07U5QKh",
        "outputId": "f4efd9ce-aef1-4714-f26f-9a8aaef6db3e"
      },
      "execution_count": null,
      "outputs": [
        {
          "output_type": "execute_result",
          "data": {
            "text/plain": [
              "array(['1970-01-01T00:00:00.000', '2020-01-01T00:00:00.000'],\n",
              "      dtype='datetime64[ms]')"
            ]
          },
          "metadata": {},
          "execution_count": 12
        }
      ]
    },
    {
      "cell_type": "markdown",
      "source": [
        "# **arange**"
      ],
      "metadata": {
        "id": "WN4pu2HQ59vH"
      }
    },
    {
      "cell_type": "code",
      "source": [
        "np.arange('2005-02', '2005-03', dtype='datetime64[D]')"
      ],
      "metadata": {
        "colab": {
          "base_uri": "https://localhost:8080/"
        },
        "id": "thNasAz_5jWI",
        "outputId": "c105d6f9-a6d6-4de6-d168-c9a460fcd711"
      },
      "execution_count": null,
      "outputs": [
        {
          "output_type": "execute_result",
          "data": {
            "text/plain": [
              "array(['2005-02-01', '2005-02-02', '2005-02-03', '2005-02-04',\n",
              "       '2005-02-05', '2005-02-06', '2005-02-07', '2005-02-08',\n",
              "       '2005-02-09', '2005-02-10', '2005-02-11', '2005-02-12',\n",
              "       '2005-02-13', '2005-02-14', '2005-02-15', '2005-02-16',\n",
              "       '2005-02-17', '2005-02-18', '2005-02-19', '2005-02-20',\n",
              "       '2005-02-21', '2005-02-22', '2005-02-23', '2005-02-24',\n",
              "       '2005-02-25', '2005-02-26', '2005-02-27', '2005-02-28'],\n",
              "      dtype='datetime64[D]')"
            ]
          },
          "metadata": {},
          "execution_count": 13
        }
      ]
    },
    {
      "cell_type": "markdown",
      "source": [
        "# **#**"
      ],
      "metadata": {
        "id": "WErBeWKB6YFX"
      }
    },
    {
      "cell_type": "code",
      "source": [
        "np.datetime64('2005') == np.datetime64('2005-01-01')"
      ],
      "metadata": {
        "colab": {
          "base_uri": "https://localhost:8080/"
        },
        "id": "CQeBCzR35773",
        "outputId": "d887fa3c-a6f2-4ebb-f515-f148fcfabed6"
      },
      "execution_count": null,
      "outputs": [
        {
          "output_type": "execute_result",
          "data": {
            "text/plain": [
              "True"
            ]
          },
          "metadata": {},
          "execution_count": 14
        }
      ]
    },
    {
      "cell_type": "code",
      "source": [
        "np.datetime64('2010-03-14T15') == np.datetime64('2010-03-14T15:00:00.00')"
      ],
      "metadata": {
        "colab": {
          "base_uri": "https://localhost:8080/"
        },
        "id": "HyozBnkf6Wg3",
        "outputId": "c7b358ac-f65f-4114-a6c7-d8c99348015d"
      },
      "execution_count": null,
      "outputs": [
        {
          "output_type": "execute_result",
          "data": {
            "text/plain": [
              "True"
            ]
          },
          "metadata": {},
          "execution_count": 15
        }
      ]
    },
    {
      "cell_type": "markdown",
      "source": [
        "# **Timedelta**"
      ],
      "metadata": {
        "id": "-PnPqZx66vuK"
      }
    },
    {
      "cell_type": "code",
      "source": [
        "np.timedelta64(1, 'D')"
      ],
      "metadata": {
        "colab": {
          "base_uri": "https://localhost:8080/"
        },
        "id": "IHVJNU7w6j9e",
        "outputId": "7ad9b6ee-0847-4e4c-d82f-a746177d5a32"
      },
      "execution_count": null,
      "outputs": [
        {
          "output_type": "execute_result",
          "data": {
            "text/plain": [
              "numpy.timedelta64(1,'D')"
            ]
          },
          "metadata": {},
          "execution_count": 16
        }
      ]
    },
    {
      "cell_type": "code",
      "source": [
        "np.timedelta64(4, 'h')"
      ],
      "metadata": {
        "colab": {
          "base_uri": "https://localhost:8080/"
        },
        "id": "mV1FyX-f7Ecn",
        "outputId": "692ea9fd-5c01-4e68-9733-5f968aff61ad"
      },
      "execution_count": null,
      "outputs": [
        {
          "output_type": "execute_result",
          "data": {
            "text/plain": [
              "numpy.timedelta64(4,'h')"
            ]
          },
          "metadata": {},
          "execution_count": 17
        }
      ]
    },
    {
      "cell_type": "code",
      "source": [
        "np.timedelta64('nAt')"
      ],
      "metadata": {
        "colab": {
          "base_uri": "https://localhost:8080/"
        },
        "id": "uBXKVLjo7GRW",
        "outputId": "dbe2b622-a6bd-430d-b440-21e6e487ea0f"
      },
      "execution_count": null,
      "outputs": [
        {
          "output_type": "execute_result",
          "data": {
            "text/plain": [
              "numpy.timedelta64('NaT')"
            ]
          },
          "metadata": {},
          "execution_count": 18
        }
      ]
    },
    {
      "cell_type": "code",
      "source": [
        "np.datetime64('2009-01-01') - np.datetime64('2008-01-01')"
      ],
      "metadata": {
        "colab": {
          "base_uri": "https://localhost:8080/"
        },
        "id": "yMCTyuor7PLm",
        "outputId": "a0ff31ee-0a2c-419e-ca72-5bc22755543b"
      },
      "execution_count": null,
      "outputs": [
        {
          "output_type": "execute_result",
          "data": {
            "text/plain": [
              "numpy.timedelta64(366,'D')"
            ]
          },
          "metadata": {},
          "execution_count": 19
        }
      ]
    },
    {
      "cell_type": "code",
      "source": [
        "np.datetime64('2009') + np.timedelta64(20, 'D')"
      ],
      "metadata": {
        "colab": {
          "base_uri": "https://localhost:8080/"
        },
        "id": "AsNOq82v7X_u",
        "outputId": "c27f0fba-5dce-4ce6-ccd4-db548c8d29d5"
      },
      "execution_count": null,
      "outputs": [
        {
          "output_type": "execute_result",
          "data": {
            "text/plain": [
              "numpy.datetime64('2009-01-21')"
            ]
          },
          "metadata": {},
          "execution_count": 20
        }
      ]
    },
    {
      "cell_type": "code",
      "source": [
        "np.datetime64('2011-06-15T00:00') + np.timedelta64(12, 'h')"
      ],
      "metadata": {
        "colab": {
          "base_uri": "https://localhost:8080/"
        },
        "id": "B4brj0pu7c7V",
        "outputId": "b4043b63-438f-4042-e6f2-79a9eb4695eb"
      },
      "execution_count": null,
      "outputs": [
        {
          "output_type": "execute_result",
          "data": {
            "text/plain": [
              "numpy.datetime64('2011-06-15T12:00')"
            ]
          },
          "metadata": {},
          "execution_count": 21
        }
      ]
    },
    {
      "cell_type": "code",
      "source": [
        "np.timedelta64(1,'W') / np.timedelta64(1,'D')"
      ],
      "metadata": {
        "colab": {
          "base_uri": "https://localhost:8080/"
        },
        "id": "clddw9FB7p_9",
        "outputId": "e975e734-8181-4efd-a131-00bd17e5af0d"
      },
      "execution_count": null,
      "outputs": [
        {
          "output_type": "execute_result",
          "data": {
            "text/plain": [
              "7.0"
            ]
          },
          "metadata": {},
          "execution_count": 22
        }
      ]
    },
    {
      "cell_type": "code",
      "source": [
        "np.timedelta64(1,'W') % np.timedelta64(10,'D')"
      ],
      "metadata": {
        "colab": {
          "base_uri": "https://localhost:8080/"
        },
        "id": "QdtaQgFo7zn2",
        "outputId": "485fb7a0-40a9-478e-b17d-23610fa38c71"
      },
      "execution_count": null,
      "outputs": [
        {
          "output_type": "execute_result",
          "data": {
            "text/plain": [
              "numpy.timedelta64(7,'D')"
            ]
          },
          "metadata": {},
          "execution_count": 23
        }
      ]
    },
    {
      "cell_type": "code",
      "source": [
        "np.datetime64('nat') - np.datetime64('2009-01-01')"
      ],
      "metadata": {
        "colab": {
          "base_uri": "https://localhost:8080/"
        },
        "id": "gjFFD09h7369",
        "outputId": "7dd89a44-09f1-4f8a-b4a8-e163a38a303b"
      },
      "execution_count": null,
      "outputs": [
        {
          "output_type": "execute_result",
          "data": {
            "text/plain": [
              "numpy.timedelta64('NaT','D')"
            ]
          },
          "metadata": {},
          "execution_count": 24
        }
      ]
    },
    {
      "cell_type": "code",
      "source": [
        "np.datetime64('2009-01-01') + np.timedelta64('nat')"
      ],
      "metadata": {
        "colab": {
          "base_uri": "https://localhost:8080/"
        },
        "id": "jGoJGT7R78x9",
        "outputId": "6e43b5cc-0112-4b18-b115-712b2e1cc88c"
      },
      "execution_count": null,
      "outputs": [
        {
          "output_type": "execute_result",
          "data": {
            "text/plain": [
              "numpy.datetime64('NaT')"
            ]
          },
          "metadata": {},
          "execution_count": 25
        }
      ]
    },
    {
      "cell_type": "code",
      "source": [
        "a = np.timedelta64(1, 'Y')"
      ],
      "metadata": {
        "id": "ZA7mUYRs8C9t"
      },
      "execution_count": null,
      "outputs": []
    },
    {
      "cell_type": "code",
      "source": [
        "np.timedelta64(a, 'M')"
      ],
      "metadata": {
        "colab": {
          "base_uri": "https://localhost:8080/"
        },
        "id": "bfsDRoi39wQ0",
        "outputId": "2d0adbc1-b149-49e2-eecf-7104bc04c165"
      },
      "execution_count": null,
      "outputs": [
        {
          "output_type": "execute_result",
          "data": {
            "text/plain": [
              "numpy.timedelta64(12,'M')"
            ]
          },
          "metadata": {},
          "execution_count": 27
        }
      ]
    },
    {
      "cell_type": "code",
      "source": [
        "#np.timedelta64(a, 'D')"
      ],
      "metadata": {
        "id": "4YzltFZt90f0"
      },
      "execution_count": null,
      "outputs": []
    },
    {
      "cell_type": "markdown",
      "source": [
        "# **Busness day function**"
      ],
      "metadata": {
        "id": "NANgb1KU-FLZ"
      }
    },
    {
      "cell_type": "code",
      "source": [
        "np.busday_offset('2011-06-23', 1)"
      ],
      "metadata": {
        "colab": {
          "base_uri": "https://localhost:8080/"
        },
        "id": "fc4qy2KM-DCV",
        "outputId": "0a69e21e-58dd-4f58-e301-12adba65ec58"
      },
      "execution_count": null,
      "outputs": [
        {
          "output_type": "execute_result",
          "data": {
            "text/plain": [
              "numpy.datetime64('2011-06-24')"
            ]
          },
          "metadata": {},
          "execution_count": 30
        }
      ]
    },
    {
      "cell_type": "code",
      "source": [
        "np.busday_offset('2011-06-23', 2)"
      ],
      "metadata": {
        "colab": {
          "base_uri": "https://localhost:8080/"
        },
        "id": "gFzx9C4g-Qdb",
        "outputId": "79573a8d-9d8d-4b71-ada8-2df0576d8eec"
      },
      "execution_count": null,
      "outputs": [
        {
          "output_type": "execute_result",
          "data": {
            "text/plain": [
              "numpy.datetime64('2011-06-27')"
            ]
          },
          "metadata": {},
          "execution_count": 31
        }
      ]
    },
    {
      "cell_type": "code",
      "source": [
        "np.busday_offset('2011-06-25', 0, roll='forward')"
      ],
      "metadata": {
        "colab": {
          "base_uri": "https://localhost:8080/"
        },
        "id": "OwC45GNn-cwE",
        "outputId": "bf7748ca-2bcb-4e48-c3f0-bb28086e79d6"
      },
      "execution_count": null,
      "outputs": [
        {
          "output_type": "execute_result",
          "data": {
            "text/plain": [
              "numpy.datetime64('2011-06-27')"
            ]
          },
          "metadata": {},
          "execution_count": 32
        }
      ]
    },
    {
      "cell_type": "code",
      "source": [
        "np.busday_offset('2011-06-25', 2, roll='forward')"
      ],
      "metadata": {
        "colab": {
          "base_uri": "https://localhost:8080/"
        },
        "id": "4mac-qUz-iCD",
        "outputId": "9759b5c7-3a93-4471-fa4a-3dcdd8dafa38"
      },
      "execution_count": null,
      "outputs": [
        {
          "output_type": "execute_result",
          "data": {
            "text/plain": [
              "numpy.datetime64('2011-06-29')"
            ]
          },
          "metadata": {},
          "execution_count": 33
        }
      ]
    },
    {
      "cell_type": "code",
      "source": [
        "np.busday_offset('2011-06-25', 0, roll='backward')"
      ],
      "metadata": {
        "colab": {
          "base_uri": "https://localhost:8080/"
        },
        "id": "XdMupQBc-mJs",
        "outputId": "38ca2e0d-c812-47f5-f0a7-d8e63fdbddaf"
      },
      "execution_count": null,
      "outputs": [
        {
          "output_type": "execute_result",
          "data": {
            "text/plain": [
              "numpy.datetime64('2011-06-24')"
            ]
          },
          "metadata": {},
          "execution_count": 34
        }
      ]
    },
    {
      "cell_type": "code",
      "source": [
        "np.busday_offset('2011-06-25', 2, roll='backward')"
      ],
      "metadata": {
        "colab": {
          "base_uri": "https://localhost:8080/"
        },
        "id": "97IpBIvG-qES",
        "outputId": "bee29521-8b25-4dce-c994-1c9325b134a3"
      },
      "execution_count": null,
      "outputs": [
        {
          "output_type": "execute_result",
          "data": {
            "text/plain": [
              "numpy.datetime64('2011-06-28')"
            ]
          },
          "metadata": {},
          "execution_count": 35
        }
      ]
    },
    {
      "cell_type": "code",
      "source": [
        "np.busday_offset('2011-03-20', 0, roll='forward')"
      ],
      "metadata": {
        "colab": {
          "base_uri": "https://localhost:8080/"
        },
        "id": "RZ74-nQ_-xp9",
        "outputId": "56fbbd8b-c7ce-4e97-fd96-0c2d9e91c445"
      },
      "execution_count": null,
      "outputs": [
        {
          "output_type": "execute_result",
          "data": {
            "text/plain": [
              "numpy.datetime64('2011-03-21')"
            ]
          },
          "metadata": {},
          "execution_count": 36
        }
      ]
    },
    {
      "cell_type": "code",
      "source": [
        "np.busday_offset('2011-03-22', 0, roll='forward')"
      ],
      "metadata": {
        "colab": {
          "base_uri": "https://localhost:8080/"
        },
        "id": "eYwtx82s-2Sj",
        "outputId": "e20898d0-c729-48c2-e9a6-b925d0a16ced"
      },
      "execution_count": null,
      "outputs": [
        {
          "output_type": "execute_result",
          "data": {
            "text/plain": [
              "numpy.datetime64('2011-03-22')"
            ]
          },
          "metadata": {},
          "execution_count": 37
        }
      ]
    },
    {
      "cell_type": "code",
      "source": [
        "np.busday_offset('2011-03-20', 1, roll='backward')"
      ],
      "metadata": {
        "colab": {
          "base_uri": "https://localhost:8080/"
        },
        "id": "3pGHROKk-7By",
        "outputId": "f355de15-7937-4041-89b6-d2dadcb27e2b"
      },
      "execution_count": null,
      "outputs": [
        {
          "output_type": "execute_result",
          "data": {
            "text/plain": [
              "numpy.datetime64('2011-03-21')"
            ]
          },
          "metadata": {},
          "execution_count": 38
        }
      ]
    },
    {
      "cell_type": "code",
      "source": [
        "np.busday_offset('2011-03-22', 1, roll='backward')"
      ],
      "metadata": {
        "colab": {
          "base_uri": "https://localhost:8080/"
        },
        "id": "1DBxdJat-_Hu",
        "outputId": "dc0b0307-024d-4146-f1cf-67754f2db5de"
      },
      "execution_count": null,
      "outputs": [
        {
          "output_type": "execute_result",
          "data": {
            "text/plain": [
              "numpy.datetime64('2011-03-23')"
            ]
          },
          "metadata": {},
          "execution_count": 39
        }
      ]
    },
    {
      "cell_type": "code",
      "source": [
        "np.busday_offset('2012-05', 1, roll='forward', weekmask='Sun')"
      ],
      "metadata": {
        "colab": {
          "base_uri": "https://localhost:8080/"
        },
        "id": "xRSNvDRE_GaC",
        "outputId": "0ccfa3dc-814d-40d2-d480-ff881ba3bb19"
      },
      "execution_count": null,
      "outputs": [
        {
          "output_type": "execute_result",
          "data": {
            "text/plain": [
              "numpy.datetime64('2012-05-13')"
            ]
          },
          "metadata": {},
          "execution_count": 40
        }
      ]
    },
    {
      "cell_type": "code",
      "source": [
        "np.is_busday(np.datetime64('2011-07-15'))# a friday"
      ],
      "metadata": {
        "colab": {
          "base_uri": "https://localhost:8080/"
        },
        "id": "56i58SEO_NlD",
        "outputId": "d6875a56-b672-4328-e094-0aae3100f816"
      },
      "execution_count": null,
      "outputs": [
        {
          "output_type": "execute_result",
          "data": {
            "text/plain": [
              "True"
            ]
          },
          "metadata": {},
          "execution_count": 41
        }
      ]
    },
    {
      "cell_type": "code",
      "source": [
        "np.is_busday(np.datetime64('2011-07-16')) # a Saturday"
      ],
      "metadata": {
        "colab": {
          "base_uri": "https://localhost:8080/"
        },
        "id": "0Gkjmew0_TDT",
        "outputId": "aa2b7118-fb04-40fc-9d59-3c00e2252e1f"
      },
      "execution_count": null,
      "outputs": [
        {
          "output_type": "execute_result",
          "data": {
            "text/plain": [
              "False"
            ]
          },
          "metadata": {},
          "execution_count": 42
        }
      ]
    },
    {
      "cell_type": "code",
      "source": [
        "np.is_busday(np.datetime64('2011-07-16'), weekmask=\"Sat Sun\")"
      ],
      "metadata": {
        "colab": {
          "base_uri": "https://localhost:8080/"
        },
        "id": "RoVI8ctS_bmz",
        "outputId": "7a0d3e6a-2d37-460d-e9ef-2a3572ec04ec"
      },
      "execution_count": null,
      "outputs": [
        {
          "output_type": "execute_result",
          "data": {
            "text/plain": [
              "True"
            ]
          },
          "metadata": {},
          "execution_count": 43
        }
      ]
    },
    {
      "cell_type": "code",
      "source": [
        "a = np.arange(np.datetime64('2011-07-11'), np.datetime64('2011-07-18'))\n",
        "np.is_busday(a)"
      ],
      "metadata": {
        "colab": {
          "base_uri": "https://localhost:8080/"
        },
        "id": "39nMevFx_h4s",
        "outputId": "2f59f5cc-cb7e-4883-9938-8f8a99a504f3"
      },
      "execution_count": null,
      "outputs": [
        {
          "output_type": "execute_result",
          "data": {
            "text/plain": [
              "array([ True,  True,  True,  True,  True, False, False])"
            ]
          },
          "metadata": {},
          "execution_count": 47
        }
      ]
    },
    {
      "cell_type": "code",
      "source": [
        "np.busday_count(np.datetime64('2011-07-11'), np.datetime64('2011-07-18'))"
      ],
      "metadata": {
        "colab": {
          "base_uri": "https://localhost:8080/"
        },
        "id": "IqNS-wKI_nlp",
        "outputId": "d886024d-6b70-4ae7-e27a-49e0b86ed7e0"
      },
      "execution_count": null,
      "outputs": [
        {
          "output_type": "execute_result",
          "data": {
            "text/plain": [
              "5"
            ]
          },
          "metadata": {},
          "execution_count": 48
        }
      ]
    },
    {
      "cell_type": "code",
      "source": [
        "np.busday_count(np.datetime64('2011-07-18'), np.datetime64('2011-07-11'))"
      ],
      "metadata": {
        "colab": {
          "base_uri": "https://localhost:8080/"
        },
        "id": "QTnvCBjn_6yS",
        "outputId": "027e5b7b-dcb2-46a4-dd35-0861c3e40af0"
      },
      "execution_count": null,
      "outputs": [
        {
          "output_type": "execute_result",
          "data": {
            "text/plain": [
              "-5"
            ]
          },
          "metadata": {},
          "execution_count": 49
        }
      ]
    },
    {
      "cell_type": "code",
      "source": [
        "a = np.arange(np.datetime64('2011-07-11'), np.datetime64('2011-07-18'))\n",
        "np.count_nonzero(np.is_busday(a))"
      ],
      "metadata": {
        "colab": {
          "base_uri": "https://localhost:8080/"
        },
        "id": "qm6Jf03t__eJ",
        "outputId": "4580e016-d7b5-4d3a-bff1-9a6952a09f4f"
      },
      "execution_count": null,
      "outputs": [
        {
          "output_type": "execute_result",
          "data": {
            "text/plain": [
              "5"
            ]
          },
          "metadata": {},
          "execution_count": 51
        }
      ]
    }
  ]
}